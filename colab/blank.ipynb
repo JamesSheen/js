{
  "nbformat": 4,
  "nbformat_minor": 0,
  "metadata": {
    "colab": {
      "name": "blank", 
      "provenance": [], 
      "private_outputs": true,
      "collapsed_sections": [], 
      "machine_shape": "hm",
      "include_colab_link": true
    },  
    "kernelspec": {
      "display_name": "Python 3", 
      "name": "python3"
    },  
    "accelerator": ""
  },  
  "cells": [
    {   
      "cell_type": "markdown",
      "metadata": {
        "id": "view-in-github",
        "colab_type": "text"
      },  
      "source": [
        "<a href=\"https://colab.research.google.com/github/JamesSheen/js/blob/master/colab/blank.ipynb\" target=\"_parent\"><img src=\"https://colab.research.google.com/assets/colab-badge.svg\" alt=\"Open In Colab\"/></a>"
      ]   
    },  
    {   
      "cell_type": "code",
      "metadata": {
        "id": "_" 
      },  
      "source": [
        "[1]*9**10"
      ],  
      "execution_count": null,
      "outputs": []
    }   
  ]
}
